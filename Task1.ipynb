{
 "cells": [
  {
   "cell_type": "code",
   "execution_count": null,
   "id": "c2fe3f70-e6b1-485e-9d82-c763bf722f34",
   "metadata": {},
   "outputs": [],
   "source": [
    "def fibonacci_generator():\n",
    "    a, b = 0, 1\n",
    "    while True:\n",
    "        yield a\n",
    "        a, b = b, a + b\n",
    "\n",
    "inp = int(input(\"Enter the number of terms you want: \")) # from here you can input the no of elements you want to see\n",
    "\n",
    "fib = fibonacci_generator()\n",
    "print(\"Fibonacci Sequence:\")\n",
    "print(\" \".join(str(next(fib)) for _ in range(inp)))\n"
   ]
  },
  {
   "cell_type": "code",
   "execution_count": null,
   "id": "5561609d-7ed2-4d48-bb45-6edab5d3e52d",
   "metadata": {},
   "outputs": [],
   "source": []
  }
 ],
 "metadata": {
  "kernelspec": {
   "display_name": "Python 3 (ipykernel)",
   "language": "python",
   "name": "python3"
  },
  "language_info": {
   "codemirror_mode": {
    "name": "ipython",
    "version": 3
   },
   "file_extension": ".py",
   "mimetype": "text/x-python",
   "name": "python",
   "nbconvert_exporter": "python",
   "pygments_lexer": "ipython3",
   "version": "3.13.1"
  }
 },
 "nbformat": 4,
 "nbformat_minor": 5
}
